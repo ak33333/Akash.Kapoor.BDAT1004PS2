{
 "cells": [
  {
   "cell_type": "markdown",
   "id": "fd8a086b",
   "metadata": {},
   "source": [
    "# Q1\n",
    "# ANS\n",
    "\n",
    "Explanation of the program:\n",
    "In the first line we declare a variable a and set its value to 0\n",
    "Then we define a function b and in the function definition we access the variable a which we defined above \n",
    "After that, we call a function c which adds the value of 2 to global variable each time its called\n",
    "In the main program, we call the function b which in turn calls the  function \n",
    "We call the function b 3 times which in turn calls the function c which increments a by 2 3 times\n"
   ]
  },
  {
   "cell_type": "code",
   "execution_count": 1,
   "id": "fda9e773",
   "metadata": {},
   "outputs": [
    {
     "name": "stdout",
     "output_type": "stream",
     "text": [
      "None\n",
      "None\n",
      "None\n",
      "6\n"
     ]
    }
   ],
   "source": [
    "a = 0\n",
    "def b():\n",
    "    global a\n",
    "    a = c(a)\n",
    "def c(a):\n",
    " return a + 2\n",
    "\n",
    "print(b())\n",
    "print(b())\n",
    "print(b())\n",
    "print(a)"
   ]
  },
  {
   "cell_type": "markdown",
   "id": "150f0653",
   "metadata": {},
   "source": [
    "# Q2\n",
    "# sol\n"
   ]
  },
  {
   "cell_type": "code",
   "execution_count": 2,
   "id": "83a02bc4",
   "metadata": {},
   "outputs": [
    {
     "name": "stdout",
     "output_type": "stream",
     "text": [
      "Unable to open the file\n"
     ]
    }
   ],
   "source": [
    "try:\n",
    "    infile = open('test.txt')\n",
    "    content = infile.read()\n",
    "    print(len(content))\n",
    "    infile.close()\n",
    "except:\n",
    "    print('Unable to open the file')\n",
    "\n"
   ]
  },
  {
   "cell_type": "markdown",
   "id": "5045624a",
   "metadata": {},
   "source": [
    "# Q 3\n",
    "# sol"
   ]
  },
  {
   "cell_type": "code",
   "execution_count": 3,
   "id": "ef9bb3af",
   "metadata": {},
   "outputs": [
    {
     "name": "stdout",
     "output_type": "stream",
     "text": [
      "['doll', 'firetruck', 'Kitten']\n",
      "['doll', 'firetruck', 'Kittens']\n",
      "I m a Kangroo located at cordinate(3,0)\n"
     ]
    }
   ],
   "source": [
    "class Marsupial:\n",
    "    def __init__(self):\n",
    "        self.pouch=[]\n",
    "    def put_in_pouch(self,pouch_content):\n",
    "        self.pouch.append(pouch_content)\n",
    "    def pouch_contents(self):\n",
    "        print(self.pouch)\n",
    "# end of the class\n",
    "class Kangaroo(Marsupial):\n",
    "    def __init__(self ,x,y) :\n",
    "        self.pouch=[]\n",
    "        self.x=x \n",
    "        self.y=y\n",
    "    def jump(self,x,y):\n",
    "        self.x= self.x+x\n",
    "        self.y=self.y+y\n",
    "\n",
    "\n",
    "\n",
    "\n",
    "\n",
    "m=Marsupial()\n",
    "m.put_in_pouch('doll')\n",
    "m.put_in_pouch('firetruck')\n",
    "m.put_in_pouch('Kitten')\n",
    "m.pouch_contents()\n",
    "k=Kangaroo(0,0)\n",
    "k.put_in_pouch('doll')\n",
    "k.put_in_pouch('firetruck')\n",
    "k.put_in_pouch('Kittens')\n",
    "k.pouch_contents()\n",
    "\n",
    "k.jump(1,0)\n",
    "k.jump(1,0)\n",
    "k.jump(1,0)\n",
    "print(f\"I m a Kangroo located at cordinate({k.x},{k.y})\")\n",
    "\n"
   ]
  },
  {
   "cell_type": "markdown",
   "id": "e10d71c6",
   "metadata": {},
   "source": [
    "# Q4\n",
    "# sol"
   ]
  },
  {
   "cell_type": "code",
   "execution_count": 5,
   "id": "dd861fd0",
   "metadata": {},
   "outputs": [
    {
     "name": "stdout",
     "output_type": "stream",
     "text": [
      "Enter the number to generate the series10\n",
      "5.0\n",
      "16.0\n",
      "8.0\n",
      "4.0\n",
      "2.0\n",
      "1.0\n"
     ]
    }
   ],
   "source": [
    "def collatz(num):\n",
    "    while(num!=1):\n",
    "        if num%2==0:\n",
    "            num=num/2\n",
    "        else:\n",
    "           num= 3*num+1\n",
    "        print(num)\n",
    "number=int(input('Enter the number to generate the series'))\n",
    "collatz(number)\n"
   ]
  },
  {
   "cell_type": "markdown",
   "id": "b4044de6",
   "metadata": {},
   "source": [
    "# Q 5\n",
    "# sol"
   ]
  },
  {
   "cell_type": "code",
   "execution_count": 6,
   "id": "96a2cc2e",
   "metadata": {},
   "outputs": [
    {
     "name": "stdout",
     "output_type": "stream",
     "text": [
      "Enter the decimal number to convert it into binary9\n",
      "1001\n"
     ]
    }
   ],
   "source": [
    "def Binary(num):\n",
    "    binary = format(num, \"b\")\n",
    "    print(binary)\n",
    "\n",
    "\n",
    "number=int(input('Enter the decimal number to convert it into binary'))\n",
    "Binary(number)\n"
   ]
  },
  {
   "cell_type": "markdown",
   "id": "cc723305",
   "metadata": {},
   "source": [
    "# Q6\n",
    "# sol"
   ]
  },
  {
   "cell_type": "code",
   "execution_count": 6,
   "id": "d991cd04",
   "metadata": {},
   "outputs": [
    {
     "name": "stdout",
     "output_type": "stream",
     "text": [
      "Encountered some data  : Test\n",
      "Encountered some data  : Parse me!\n"
     ]
    }
   ],
   "source": [
    "from html.parser import HTMLParser\n",
    "\n",
    "class HeadingParser(HTMLParser):\n",
    "    def handle_starttag(self, tag, attrs):\n",
    "        if tag=='<h1>':\n",
    "           print(\"Encountered a start tag:\", tag)\n",
    "           print('<h1>')\n",
    "\n",
    "    def handle_endtag(self, tag):\n",
    "        if tag=='</h1>':\n",
    "            print(\"Encountered an end tag :\", tag)\n",
    "\n",
    "    def handle_data(self, data):\n",
    "        print(\"Encountered some data  :\", data)\n",
    "\n",
    "parser = HeadingParser()\n",
    "parser.feed('<html><head><title>Test</title></head>'\n",
    "            '<body><h1>Parse me!</h1></body></html>')\n"
   ]
  },
  {
   "cell_type": "markdown",
   "id": "026b1834",
   "metadata": {},
   "source": [
    "# Q 7\n",
    "# sol"
   ]
  },
  {
   "cell_type": "code",
   "execution_count": 5,
   "id": "33119792",
   "metadata": {},
   "outputs": [
    {
     "name": "stdout",
     "output_type": "stream",
     "text": [
      "http://reed.cs.depaul.edu/lperkovic/test2.html\n",
      "test3.html\n"
     ]
    }
   ],
   "source": [
    "from html.parser import HTMLParser\n",
    "import urllib.request\n",
    "class URLScrapper(HTMLParser):\n",
    "    \n",
    "    def handle_starttag(self, tag, attrs):\n",
    "        if tag==\"a\":\n",
    "            for name,link in attrs:\n",
    "                if name==\"href\":\n",
    "                    print(link)\n",
    "\n",
    "def webdir(url,depth,indent):                  \n",
    "    url = urllib.request.urlopen(url)\n",
    "    html = url.read().decode()\n",
    "    url.close()\n",
    "    parser =  URLScrapper()\n",
    "    parser.feed(html)\n",
    "\n",
    "\n",
    "\n",
    "url=\"http://reed.cs.depaul.edu/lperkovic/test1.html\"\n",
    "webdir(url,2,0)\n",
    "        \n",
    "            \n",
    "    # def handle_data(self, data):\n",
    "    #     if self.flag==1:\n",
    "    #         print(\"Encountered a heading  :\", data)\n",
    "    #         self.\n",
    "\n"
   ]
  },
  {
   "cell_type": "markdown",
   "id": "625f90d5",
   "metadata": {},
   "source": [
    "# Q 8\n",
    "# sol"
   ]
  },
  {
   "cell_type": "code",
   "execution_count": null,
   "id": "cb600b41",
   "metadata": {},
   "outputs": [],
   "source": [
    "create table Weather\n",
    "(\n",
    "city varchar(100),\n",
    "country varchar(100),\n",
    "season varchar(100),\n",
    "Temperature float,\n",
    "Rainfall float\n",
    ")\n",
    "\n",
    "insert into Weather values('Mumbai','India','Winter',24.8,5.9),\n",
    "('Mumbai','India','Spring',28.4,16.2),\n",
    "('Mumbai','India','Summer',27.9,1549),\n",
    "('Mumbai','India','Winter',24.8,5.9),\n",
    "('Mumbai','India','Fall',27.6,346.0),\n",
    "('London','United Kingdom','Winter',4.2,207.7),\n",
    "('London','United Kingdom','Spring',8.3,169.6),\n",
    "('London','United Kingdom','Summer',15.7,157.0),\n",
    "('London','United Kingdom','Fall',10.4,218.5),\n",
    "('Cario','Egypt','Winter',13.6,16.5),\n",
    "('Cario','Egypt','Spring',20.7,6.5),\n",
    "('Cario','Egypt','Summer',13.6,16.5),\n",
    "('Cario','Egypt','Fall',22.2,4.5)\n",
    "select * from Weather\n",
    "select temperature from Weather\n",
    "select distinct city from Weather\n",
    "select * from Weather where country='India'\n",
    "select * from Weather where season='fall'\n",
    "SELECT city  from Weather GROUP BY  city\n",
    "HAVING  AVG(Rainfall) between 100 and 200 \n",
    "select sum(rainfall) from weather where city='Cario'\n",
    "select sum(rainfall) from weather group by season\n"
   ]
  },
  {
   "cell_type": "markdown",
   "id": "6cf50411",
   "metadata": {},
   "source": [
    "# Q 9\n",
    "# sol"
   ]
  },
  {
   "cell_type": "code",
   "execution_count": 10,
   "id": "42c378c9",
   "metadata": {},
   "outputs": [
    {
     "name": "stdout",
     "output_type": "stream",
     "text": [
      "The list converted in upper case is\n",
      "['THE', 'QUICK', 'BROWN', 'FOX', 'JUMPS', 'OVER', 'THE', 'LAZY', 'DOG']\n",
      "The list converted in lower case is\n",
      "['the', 'quick', 'brown', 'fox', 'jumps', 'over', 'the', 'lazy', 'dog']\n",
      "The lenght of each word in a list is as\n",
      "['the', 'quick', 'brown', 'fox', 'jumps', 'over', 'the', 'lazy', 'dog']\n",
      "The combo is as follows\n",
      "[(3, 'THE', 'the'), (5, 'QUICK', 'quick'), (5, 'BROWN', 'brown'), (3, 'FOX', 'fox'), (5, 'JUMPS', 'jumps'), (4, 'OVER', 'over'), (3, 'THE', 'the'), (4, 'LAZY', 'lazy'), (3, 'DOG', 'dog')]\n",
      "The list of words whoes lenght is greater then 4\n",
      "['quick', 'brown', 'jumps', 'over', 'lazy']\n"
     ]
    }
   ],
   "source": [
    "words = ['The', 'quick', 'brown', 'fox', 'jumps', 'over',\n",
    "'the', 'lazy', 'dog']\n",
    "upper=[str.upper() for str in words ]\n",
    "print('The list converted in upper case is')\n",
    "print(upper)\n",
    "lower= [str.lower() for str in words]\n",
    "print('The list converted in lower case is')\n",
    "print(lower)\n",
    "\n",
    "#counting the lenght of the word in the list\n",
    "lenght=[len(str) for str in words]\n",
    "print('The lenght of each word in a list is as')\n",
    "print(lower)\n",
    "combo=[(len(str), str.upper(), str.lower()) for str in words ]\n",
    "\n",
    "print('The combo is as follows')\n",
    "print(combo)\n",
    "print('The list of words whoes lenght is greater then 4')\n",
    "lenghtfour=[str for str in words if len(str)>=4]\n",
    "print(lenghtfour)\n",
    "\n"
   ]
  },
  {
   "cell_type": "code",
   "execution_count": null,
   "id": "df7b9ba0",
   "metadata": {},
   "outputs": [],
   "source": []
  }
 ],
 "metadata": {
  "kernelspec": {
   "display_name": "Python 3 (ipykernel)",
   "language": "python",
   "name": "python3"
  },
  "language_info": {
   "codemirror_mode": {
    "name": "ipython",
    "version": 3
   },
   "file_extension": ".py",
   "mimetype": "text/x-python",
   "name": "python",
   "nbconvert_exporter": "python",
   "pygments_lexer": "ipython3",
   "version": "3.9.7"
  }
 },
 "nbformat": 4,
 "nbformat_minor": 5
}
